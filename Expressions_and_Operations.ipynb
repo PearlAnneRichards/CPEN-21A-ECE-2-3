{
  "nbformat": 4,
  "nbformat_minor": 0,
  "metadata": {
    "colab": {
      "name": "Expressions and Operations.ipynb",
      "provenance": [],
      "authorship_tag": "ABX9TyM73N/eel5K3J8BN/ruWmxN",
      "include_colab_link": true
    },
    "kernelspec": {
      "name": "python3",
      "display_name": "Python 3"
    },
    "language_info": {
      "name": "python"
    }
  },
  "cells": [
    {
      "cell_type": "markdown",
      "metadata": {
        "id": "view-in-github",
        "colab_type": "text"
      },
      "source": [
        "<a href=\"https://colab.research.google.com/github/PearlAnneRichards/CPEN-21A-ECE-2-3/blob/main/Expressions_and_Operations.ipynb\" target=\"_parent\"><img src=\"https://colab.research.google.com/assets/colab-badge.svg\" alt=\"Open In Colab\"/></a>"
      ]
    },
    {
      "cell_type": "markdown",
      "metadata": {
        "id": "x_JDVZjnqyRX"
      },
      "source": [
        "##Boolean Operators"
      ]
    },
    {
      "cell_type": "code",
      "metadata": {
        "colab": {
          "base_uri": "https://localhost:8080/"
        },
        "id": "0hzdXjypp05G",
        "outputId": "3e1423ca-d01d-47c2-c3c6-d9b08cbe527a"
      },
      "source": [
        "a=1\n",
        "b=2\n",
        "\n",
        "print(a>b)\n",
        "print(a<b)\n",
        "print(a==a)\n",
        "print(a!=b)"
      ],
      "execution_count": 4,
      "outputs": [
        {
          "output_type": "stream",
          "name": "stdout",
          "text": [
            "False\n",
            "True\n",
            "True\n",
            "True\n"
          ]
        }
      ]
    },
    {
      "cell_type": "markdown",
      "metadata": {
        "id": "0cg1wasjra0S"
      },
      "source": [
        "##bool() function"
      ]
    },
    {
      "cell_type": "code",
      "metadata": {
        "colab": {
          "base_uri": "https://localhost:8080/"
        },
        "id": "vPynb014rgmY",
        "outputId": "d217607d-de3e-402d-e12b-fe4acc457289"
      },
      "source": [
        "print(bool(15))\n",
        "print(bool(True))\n",
        "print(bool(1))\n",
        "\n",
        "print(bool(False))\n",
        "print(bool(0))\n",
        "print(bool(None))\n",
        "print(bool([]))"
      ],
      "execution_count": 9,
      "outputs": [
        {
          "output_type": "stream",
          "name": "stdout",
          "text": [
            "True\n",
            "True\n",
            "True\n",
            "False\n",
            "False\n",
            "False\n",
            "False\n"
          ]
        }
      ]
    },
    {
      "cell_type": "markdown",
      "metadata": {
        "id": "dtx6A9bBsQYp"
      },
      "source": [
        "##Functions return a Boolean"
      ]
    },
    {
      "cell_type": "code",
      "metadata": {
        "colab": {
          "base_uri": "https://localhost:8080/"
        },
        "id": "v9JDTWqnsT4F",
        "outputId": "3213c4ad-af26-4016-834d-d1fb9e5a00a0"
      },
      "source": [
        "def myFunction(): return True\n",
        "\n",
        "print(myFunction())"
      ],
      "execution_count": 10,
      "outputs": [
        {
          "output_type": "stream",
          "name": "stdout",
          "text": [
            "True\n"
          ]
        }
      ]
    },
    {
      "cell_type": "code",
      "metadata": {
        "colab": {
          "base_uri": "https://localhost:8080/"
        },
        "id": "RUxmG6Qssmmp",
        "outputId": "f25742ee-c48b-4131-dfec-a7907273747a"
      },
      "source": [
        "def myFunction(): return True\n",
        "\n",
        "if myFunction():\n",
        "  print(\"True\")\n",
        "else:\n",
        "  print(\"False\")"
      ],
      "execution_count": 12,
      "outputs": [
        {
          "output_type": "stream",
          "name": "stdout",
          "text": [
            "True\n"
          ]
        }
      ]
    },
    {
      "cell_type": "markdown",
      "metadata": {
        "id": "bj-Fk9Z5tAWH"
      },
      "source": [
        "##Relational Operator"
      ]
    },
    {
      "cell_type": "code",
      "metadata": {
        "colab": {
          "base_uri": "https://localhost:8080/"
        },
        "id": "5_LwwKcUtC0R",
        "outputId": "77a79d45-074c-40f5-ffc9-6d2ca8883f55"
      },
      "source": [
        "print(10>9)\n",
        "print(10<9)\n",
        "print(10==9)"
      ],
      "execution_count": 15,
      "outputs": [
        {
          "output_type": "stream",
          "name": "stdout",
          "text": [
            "True\n",
            "False\n",
            "False\n"
          ]
        }
      ]
    },
    {
      "cell_type": "markdown",
      "metadata": {
        "id": "RtTJqrXRtQXV"
      },
      "source": [
        "##Arithmetic Operator"
      ]
    },
    {
      "cell_type": "code",
      "metadata": {
        "colab": {
          "base_uri": "https://localhost:8080/"
        },
        "id": "-ojkYznOtSrx",
        "outputId": "bbcbed94-617c-4b55-ed6e-b34fb3ed8607"
      },
      "source": [
        "print(10+5)\n",
        "print(10-5)\n",
        "print(10*5)\n",
        "print(10/5)\n",
        "print(10%2)   #modulo division that shows the remainder after dividing\n",
        "print(10//3)  #floor division, 3.33\n",
        "print(10**2)  #concatenation"
      ],
      "execution_count": 25,
      "outputs": [
        {
          "output_type": "stream",
          "name": "stdout",
          "text": [
            "15\n",
            "5\n",
            "50\n",
            "2.0\n",
            "0\n",
            "3\n",
            "100\n"
          ]
        }
      ]
    },
    {
      "cell_type": "markdown",
      "metadata": {
        "id": "fe6ctC3qvNja"
      },
      "source": [
        "##Bitwise Operators"
      ]
    },
    {
      "cell_type": "code",
      "metadata": {
        "colab": {
          "base_uri": "https://localhost:8080/"
        },
        "id": "rmHlchP3vPdx",
        "outputId": "b344f057-478c-498c-fa8e-d4ff42035abd"
      },
      "source": [
        "a=60  #0011 1100\n",
        "b=13  #0000 1101\n",
        "\n",
        "print(a&b)\n",
        "print(a|b)\n",
        "print(a^b)\n",
        "\n",
        "print(a<<1)  #0011 1100  0111 1000 - 120\n",
        "print(a>>1)  #0001 1110               carry bit-0"
      ],
      "execution_count": 35,
      "outputs": [
        {
          "output_type": "stream",
          "name": "stdout",
          "text": [
            "12\n",
            "61\n",
            "49\n",
            "120\n",
            "30\n"
          ]
        }
      ]
    },
    {
      "cell_type": "markdown",
      "metadata": {
        "id": "ygtGfoo8ztmn"
      },
      "source": [
        "##Assignment Operator"
      ]
    },
    {
      "cell_type": "code",
      "metadata": {
        "colab": {
          "base_uri": "https://localhost:8080/"
        },
        "id": "FE0DNvh2zwfN",
        "outputId": "04fcb103-5c8e-4c68-e291-832415288a3d"
      },
      "source": [
        "a+=3  #Same as a=a+3, a=60+3, a=63\n",
        "print(a)"
      ],
      "execution_count": 36,
      "outputs": [
        {
          "output_type": "stream",
          "name": "stdout",
          "text": [
            "63\n"
          ]
        }
      ]
    },
    {
      "cell_type": "markdown",
      "metadata": {
        "id": "J0QcRn5O0e2M"
      },
      "source": [
        "##Logical Operator"
      ]
    },
    {
      "cell_type": "code",
      "metadata": {
        "colab": {
          "base_uri": "https://localhost:8080/"
        },
        "id": "z3MDvp7-1Z6F",
        "outputId": "bee61e3f-5d4d-46c2-a3dd-3a1084275552"
      },
      "source": [
        "a = 60\n",
        "b = 13\n",
        "\n",
        "print(a>b and b>a)\n",
        "print(a==a or b==b)\n",
        "print(not(a==a or b==b))"
      ],
      "execution_count": 45,
      "outputs": [
        {
          "output_type": "stream",
          "name": "stdout",
          "text": [
            "False\n",
            "True\n",
            "False\n"
          ]
        }
      ]
    },
    {
      "cell_type": "markdown",
      "metadata": {
        "id": "5XYd_KZ119BN"
      },
      "source": [
        "##Identity Operators"
      ]
    },
    {
      "cell_type": "code",
      "metadata": {
        "colab": {
          "base_uri": "https://localhost:8080/"
        },
        "id": "OnNl4bUa1--I",
        "outputId": "e754a09c-107e-4259-9b1e-a845f5f6be0a"
      },
      "source": [
        "print(a is b)\n",
        "print(a is not b)"
      ],
      "execution_count": 48,
      "outputs": [
        {
          "output_type": "stream",
          "name": "stdout",
          "text": [
            "False\n",
            "True\n"
          ]
        }
      ]
    }
  ]
}