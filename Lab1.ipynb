{
  "nbformat": 4,
  "nbformat_minor": 0,
  "metadata": {
    "colab": {
      "name": "Lab1.ipynb",
      "provenance": [],
      "authorship_tag": "ABX9TyMKemxKphf2deQhOpj+sg89",
      "include_colab_link": true
    },
    "kernelspec": {
      "name": "python3",
      "display_name": "Python 3"
    },
    "language_info": {
      "name": "python"
    }
  },
  "cells": [
    {
      "cell_type": "markdown",
      "metadata": {
        "id": "view-in-github",
        "colab_type": "text"
      },
      "source": [
        "<a href=\"https://colab.research.google.com/github/PearlAnneRichards/CPEN-21A-ECE-2-3/blob/main/Lab1.ipynb\" target=\"_parent\"><img src=\"https://colab.research.google.com/assets/colab-badge.svg\" alt=\"Open In Colab\"/></a>"
      ]
    },
    {
      "cell_type": "markdown",
      "metadata": {
        "id": "bn3EFMy2hZTA"
      },
      "source": [
        "##Laboratory 1"
      ]
    },
    {
      "cell_type": "code",
      "metadata": {
        "colab": {
          "base_uri": "https://localhost:8080/"
        },
        "id": "c-aNciLAhQcz",
        "outputId": "49f95b5c-4987-49be-9b53-ae3001b0e9a0"
      },
      "source": [
        "print(\"Welcome to Python Programming\")"
      ],
      "execution_count": null,
      "outputs": [
        {
          "output_type": "stream",
          "name": "stdout",
          "text": [
            "Welcome to Python Programming\n"
          ]
        }
      ]
    },
    {
      "cell_type": "code",
      "metadata": {
        "colab": {
          "base_uri": "https://localhost:8080/"
        },
        "id": "49SHHoHwh7j7",
        "outputId": "97bc14c3-a4c2-441c-c6ce-4517b3bbd626"
      },
      "source": [
        "name = \"Pearl Anne T. Richards\"\n",
        "address = \"Blk 8A Lot 35 Phase 1, Summerfield Subdivision, Brgy. Osorio, Trece Martires, Cavite\"\n",
        "age = \"19 years old\"\n",
        "print(\"Name:\"\" \" + name)\n",
        "print(\"Address:\"\" \" + address)\n",
        "print(\"Age:\"\" \" + age)"
      ],
      "execution_count": 6,
      "outputs": [
        {
          "output_type": "stream",
          "name": "stdout",
          "text": [
            "Name: Pearl Anne T. Richards\n",
            "Address: Blk 8A Lot 35 Phase 1, Summerfield Subdivision, Brgy. Osorio, Trece Martires, Cavite\n",
            "Age: 19 years old\n"
          ]
        }
      ]
    }
  ]
}