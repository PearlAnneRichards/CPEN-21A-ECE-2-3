{
  "nbformat": 4,
  "nbformat_minor": 0,
  "metadata": {
    "colab": {
      "name": "Midterm Exam.ipynb",
      "provenance": [],
      "authorship_tag": "ABX9TyOWrirC2laU6SO7lTh9a7Al",
      "include_colab_link": true
    },
    "kernelspec": {
      "name": "python3",
      "display_name": "Python 3"
    },
    "language_info": {
      "name": "python"
    }
  },
  "cells": [
    {
      "cell_type": "markdown",
      "metadata": {
        "id": "view-in-github",
        "colab_type": "text"
      },
      "source": [
        "<a href=\"https://colab.research.google.com/github/PearlAnneRichards/CPEN-21A-ECE-2-3/blob/main/Midterm_Exam.ipynb\" target=\"_parent\"><img src=\"https://colab.research.google.com/assets/colab-badge.svg\" alt=\"Open In Colab\"/></a>"
      ]
    },
    {
      "cell_type": "markdown",
      "metadata": {
        "id": "TRXZmHOVr-DX"
      },
      "source": [
        "#Midterm Exam"
      ]
    },
    {
      "cell_type": "markdown",
      "metadata": {
        "id": "IDkY4csosWD4"
      },
      "source": [
        "##Problem 1"
      ]
    },
    {
      "cell_type": "code",
      "metadata": {
        "colab": {
          "base_uri": "https://localhost:8080/"
        },
        "id": "ujN-AOgOr1_8",
        "outputId": "b1751125-3c25-40cd-9c5d-c813df4d1018"
      },
      "source": [
        "Full_Name = \"Pearl Anne T. Richards\"\n",
        "Student_Number = \"202014307\"\n",
        "Age = \"19 years old\"\n",
        "Birthday = \"August 21, 2002\"\n",
        "Address = \"Block 8A Lot 35 Phase 1, Summerfield Subdivision, Brgy. Osorio, Trece Martires, Cavite\"\n",
        "Course = \"Bachelor of Science in Electronics and Communication Engineering\"\n",
        "GWA = \"1.16\"\n",
        "\n",
        "print(\"Full Name: \" + Full_Name)               #a\n",
        "print(\"Student Number: \" + Student_Number)     #b\n",
        "print(\"Age: \" + Age)                           #c\n",
        "print(\"Birthday: \" + Birthday)                 #d\n",
        "print(\"Address: \" + Address)                   #e\n",
        "print(\"Course: \" + Course)                     #f\n",
        "print(\"Last Sem GWA: \" + GWA)                  #g"
      ],
      "execution_count": 31,
      "outputs": [
        {
          "output_type": "stream",
          "name": "stdout",
          "text": [
            "Full Name: Pearl Anne T. Richards\n",
            "Student Number: 202014307\n",
            "Age: 19 years old\n",
            "Birthday: August 21, 2002\n",
            "Address: Block 8A Lot 35 Phase 1, Summerfield Subdivision, Brgy. Osorio, Trece Martires, Cavite\n",
            "Course: Bachelor of Science in Electronics and Communication Engineering\n",
            "Last Sem GWA: 1.16\n"
          ]
        }
      ]
    },
    {
      "cell_type": "markdown",
      "metadata": {
        "id": "ZhoVzH_Stxrg"
      },
      "source": [
        "##Problem 2"
      ]
    },
    {
      "cell_type": "code",
      "metadata": {
        "colab": {
          "base_uri": "https://localhost:8080/"
        },
        "id": "46sQp6oLtM5x",
        "outputId": "34cc07b7-4773-4203-b503-322f0bb0affa"
      },
      "source": [
        "n = 4\n",
        "answ = \"Y\"\n",
        "\n",
        "print(2<n and n<6)                          #a\n",
        "print(2<n or n==6)                          #b\n",
        "print(not(2<n) or n==6)                     #c\n",
        "print(not(n<6))                             #d\n",
        "print((answ==\"Y\") or (answ==\"y\"))           #e\n",
        "print((answ==\"Y\") and (answ==\"y\"))          #f\n",
        "print(not(answ==\"y\"))                       #g\n",
        "print((2<n and n==5+1) or (answ==\"No\"))     #h\n",
        "print((n==2 and n==7) or (answ==\"Y\"))       #i\n",
        "print(n==2 and (n==7 or answ==\"Y\"))         #j"
      ],
      "execution_count": 30,
      "outputs": [
        {
          "output_type": "stream",
          "name": "stdout",
          "text": [
            "True\n",
            "True\n",
            "False\n",
            "False\n",
            "True\n",
            "False\n",
            "True\n",
            "False\n",
            "True\n",
            "False\n"
          ]
        }
      ]
    },
    {
      "cell_type": "markdown",
      "metadata": {
        "id": "-OVhLCNhxgW-"
      },
      "source": [
        "##Problem 3"
      ]
    },
    {
      "cell_type": "code",
      "metadata": {
        "colab": {
          "base_uri": "https://localhost:8080/"
        },
        "id": "LIEfrhupxgyx",
        "outputId": "e01f9be1-29d1-425f-e1c8-483acfd01ea1"
      },
      "source": [
        "x = 2\n",
        "y = -3\n",
        "w = 7\n",
        "z = -10\n",
        "\n",
        "print(x/y)             #a\n",
        "print(w/y/x)           #b\n",
        "print(z/y%x)           #c\n",
        "print(x%-y*w)          #d\n",
        "print(x%y)             #e\n",
        "print(z%w-y/x*5+5)     #f\n",
        "print(9-x%(2+y))       #g\n",
        "print(z//w)            #h\n",
        "print((2+y)**2)        #i\n",
        "print(w/x*2)           #j"
      ],
      "execution_count": 29,
      "outputs": [
        {
          "output_type": "stream",
          "name": "stdout",
          "text": [
            "-0.6666666666666666\n",
            "-1.1666666666666667\n",
            "1.3333333333333335\n",
            "14\n",
            "-1\n",
            "16.5\n",
            "9\n",
            "-2\n",
            "1\n",
            "7.0\n"
          ]
        }
      ]
    }
  ]
}