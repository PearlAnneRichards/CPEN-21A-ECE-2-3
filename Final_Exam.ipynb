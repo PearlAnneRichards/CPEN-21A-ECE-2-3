{
  "nbformat": 4,
  "nbformat_minor": 0,
  "metadata": {
    "colab": {
      "name": "Final Exam.ipynb",
      "provenance": [],
      "authorship_tag": "ABX9TyMplSagOlPZlercVzFgWMN6",
      "include_colab_link": true
    },
    "kernelspec": {
      "name": "python3",
      "display_name": "Python 3"
    },
    "language_info": {
      "name": "python"
    }
  },
  "cells": [
    {
      "cell_type": "markdown",
      "metadata": {
        "id": "view-in-github",
        "colab_type": "text"
      },
      "source": [
        "<a href=\"https://colab.research.google.com/github/PearlAnneRichards/CPEN-21A-ECE-2-3/blob/main/Final_Exam.ipynb\" target=\"_parent\"><img src=\"https://colab.research.google.com/assets/colab-badge.svg\" alt=\"Open In Colab\"/></a>"
      ]
    },
    {
      "cell_type": "markdown",
      "source": [
        "## Final Exam"
      ],
      "metadata": {
        "id": "sdGvE4LTa0Lg"
      }
    },
    {
      "cell_type": "markdown",
      "source": [
        "PROBLEM STATEMENT 1"
      ],
      "metadata": {
        "id": "KOKmD2nRbQCg"
      }
    },
    {
      "cell_type": "code",
      "execution_count": 17,
      "metadata": {
        "colab": {
          "base_uri": "https://localhost:8080/"
        },
        "id": "GtqZL9u2aO-z",
        "outputId": "93401cf1-525e-4815-bbe3-7f79960a2da8"
      },
      "outputs": [
        {
          "output_type": "stream",
          "name": "stdout",
          "text": [
            "-5\n"
          ]
        }
      ],
      "source": [
        "#Create a Python program that will produce an output of sum of 10 numbers less than 5 using FOR LOOP statement.\n",
        "\n",
        "sum = 0\n",
        "num = [-5, -4, -3, -2, -1, 0, 1, 2, 3, 4]\n",
        "\n",
        "for x in num:\n",
        "  sum += x\n",
        "\n",
        "print(sum)"
      ]
    },
    {
      "cell_type": "markdown",
      "source": [
        "PROBLEM STATEMENT 2"
      ],
      "metadata": {
        "id": "RR3u5Frtb1ku"
      }
    },
    {
      "cell_type": "code",
      "source": [
        "#Create a Python program that will produce accept five numbers and determine the sum of first and last number among the five numbers entered using WHILE LOOP.\n",
        "\n",
        "digit = 0\n",
        "num1 = 0\n",
        "num5 = 0\n",
        "\n",
        "while digit < 5:\n",
        "  user_input = float(input(\"Enter a number: \"))\n",
        "  digit += 1\n",
        "  if digit == 1:\n",
        "    num1 = user_input\n",
        "  elif digit == 5:\n",
        "    num5 = user_input\n",
        "\n",
        "print(\"The sum of the first and last number is\", num1 + num5)"
      ],
      "metadata": {
        "colab": {
          "base_uri": "https://localhost:8080/"
        },
        "id": "bVSiCUVDb3s7",
        "outputId": "ca9629df-ea59-41c6-be9e-bff7c4ed2dbb"
      },
      "execution_count": 18,
      "outputs": [
        {
          "output_type": "stream",
          "name": "stdout",
          "text": [
            "Enter a number: 23.5\n",
            "Enter a number: 3\n",
            "Enter a number: 64\n",
            "Enter a number: 321\n",
            "Enter a number: 23.54\n",
            "The sum of the first and last number is 47.04\n"
          ]
        }
      ]
    },
    {
      "cell_type": "markdown",
      "source": [
        "PROBLEM STATEMENT 3"
      ],
      "metadata": {
        "id": "U00PEbYccxZj"
      }
    },
    {
      "cell_type": "code",
      "source": [
        "#Create a Python program to calculate student grades. It accepts a numerical grade as input and it will display the character grade as output based on the given scale: (Use Nested-IF-Else statement)\n",
        "\n",
        "grade = float(input(\"Input Grade: \"))\n",
        "\n",
        "if grade >= 90:\n",
        "  print(\"Grade: A\")\n",
        "else:\n",
        "  if grade >= 80:\n",
        "    print(\"Grade: B\")\n",
        "  else:\n",
        "    if grade >= 70:\n",
        "      print(\"Grade: C\")\n",
        "    else:\n",
        "      if grade >= 60:\n",
        "        print(\"Grade: D\")\n",
        "      else:\n",
        "          print(\"Grade: F\")\n",
        "          "
      ],
      "metadata": {
        "colab": {
          "base_uri": "https://localhost:8080/"
        },
        "id": "ODXOlrb2exfQ",
        "outputId": "4097c572-9cd5-406e-ebab-8020fd114151"
      },
      "execution_count": 23,
      "outputs": [
        {
          "output_type": "stream",
          "name": "stdout",
          "text": [
            "Input Grade: 66\n",
            "Grade: D\n"
          ]
        }
      ]
    }
  ]
}