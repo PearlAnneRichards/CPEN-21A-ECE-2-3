{
  "nbformat": 4,
  "nbformat_minor": 0,
  "metadata": {
    "colab": {
      "name": "Final Exam.ipynb",
      "provenance": [],
      "authorship_tag": "ABX9TyNiIFQMw430KIx49fG/FXvs",
      "include_colab_link": true
    },
    "kernelspec": {
      "name": "python3",
      "display_name": "Python 3"
    },
    "language_info": {
      "name": "python"
    }
  },
  "cells": [
    {
      "cell_type": "markdown",
      "metadata": {
        "id": "view-in-github",
        "colab_type": "text"
      },
      "source": [
        "<a href=\"https://colab.research.google.com/github/PearlAnneRichards/CPEN-21A-ECE-2-3/blob/main/Final_Exam.ipynb\" target=\"_parent\"><img src=\"https://colab.research.google.com/assets/colab-badge.svg\" alt=\"Open In Colab\"/></a>"
      ]
    },
    {
      "cell_type": "markdown",
      "source": [
        "## Final Exam"
      ],
      "metadata": {
        "id": "sdGvE4LTa0Lg"
      }
    },
    {
      "cell_type": "markdown",
      "source": [
        "PROBLEM STATEMENT 1"
      ],
      "metadata": {
        "id": "KOKmD2nRbQCg"
      }
    },
    {
      "cell_type": "code",
      "execution_count": null,
      "metadata": {
        "colab": {
          "base_uri": "https://localhost:8080/"
        },
        "id": "GtqZL9u2aO-z",
        "outputId": "bce646fc-5de0-4150-a3cd-1201d2626351"
      },
      "outputs": [
        {
          "output_type": "stream",
          "name": "stdout",
          "text": [
            "-5\n"
          ]
        }
      ],
      "source": [
        "sum = 0\n",
        "num = [-5, -4, -3, -2, -1, 0, 1, 2, 3, 4]\n",
        "\n",
        "for x in num:\n",
        "  sum += x\n",
        "\n",
        "print(sum)"
      ]
    },
    {
      "cell_type": "markdown",
      "source": [
        "PROBLEM STATEMENT 2"
      ],
      "metadata": {
        "id": "RR3u5Frtb1ku"
      }
    },
    {
      "cell_type": "code",
      "source": [
        "digit = 0\n",
        "num1 = 0\n",
        "num5 = 0\n",
        "\n",
        "while digit < 5:\n",
        "  user_input = float(input(\"Enter a number: \"))\n",
        "  digit += 1\n",
        "  if digit == 1:\n",
        "    num1 = user_input\n",
        "  elif digit == 5:\n",
        "    num5 = user_input\n",
        "\n",
        "print(\"The sum of the first and last number is\", num1 + num5)"
      ],
      "metadata": {
        "colab": {
          "base_uri": "https://localhost:8080/"
        },
        "id": "bVSiCUVDb3s7",
        "outputId": "95c95f4a-2e75-4259-db67-4991116c0869"
      },
      "execution_count": 4,
      "outputs": [
        {
          "output_type": "stream",
          "name": "stdout",
          "text": [
            "Enter a number: 11\n",
            "Enter a number: 905\n",
            "Enter a number: 23\n",
            "Enter a number: 433\n",
            "Enter a number: 2.3435\n",
            "The sum of the first and last number is 13.3435\n"
          ]
        }
      ]
    },
    {
      "cell_type": "markdown",
      "source": [
        "PROBLEM STATEMENT 3"
      ],
      "metadata": {
        "id": "U00PEbYccxZj"
      }
    },
    {
      "cell_type": "code",
      "source": [
        "grade = float(input(\"Input Grade: \"))\n",
        "\n",
        "if grade >= 90:\n",
        "  print(\"Grade: A\")\n",
        "else:\n",
        "  if grade >= 80:\n",
        "    print(\"Grade: B\")\n",
        "  else:\n",
        "    if grade >= 70:\n",
        "      print(\"Grade: C\")\n",
        "    else:\n",
        "      if grade >= 60:\n",
        "        print(\"Grade: D\")\n",
        "      else:\n",
        "          print(\"Grade: F\")\n",
        "          "
      ],
      "metadata": {
        "colab": {
          "base_uri": "https://localhost:8080/"
        },
        "id": "ODXOlrb2exfQ",
        "outputId": "1a758026-1ae7-4841-a8da-a6d25174396b"
      },
      "execution_count": 7,
      "outputs": [
        {
          "output_type": "stream",
          "name": "stdout",
          "text": [
            "Input Grade: 46\n",
            "Grade: F\n"
          ]
        }
      ]
    }
  ]
}